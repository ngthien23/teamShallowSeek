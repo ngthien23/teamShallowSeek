{
 "cells": [
  {
   "cell_type": "code",
   "execution_count": 40,
   "metadata": {},
   "outputs": [],
   "source": [
    "import pandas as pd\n",
    "df = pd.read_csv('climate_policies.csv', sep=';')"
   ]
  },
  {
   "cell_type": "code",
   "execution_count": null,
   "metadata": {},
   "outputs": [],
   "source": [
    "print(df['country_update'].unique())"
   ]
  },
  {
   "cell_type": "code",
   "execution_count": 41,
   "metadata": {},
   "outputs": [],
   "source": [
    "# Function to convert a row into structured natural language text\n",
    "def convert_row_to_text(row):\n",
    "    return f\"Policy {row['policy_id']} named {row['policy_name']} titled {row['policy_title']} in {row['country']} {row['country_iso']} aimed to {row['policy_objective']} in the year {row['start_date']} and end on {row['end_date']}, decided on {row['decision_date']}, description: {row['policy_description']}, sector: {row['sector']}, jusisdiction: {row['jurisdiction']}, supra national region: {row['supranational_region']}, subnational region: {row['subnational_region']}, policy city or local: {row['policy_city_or_local']}, policy instrument: {row['policy_instrument']}, policy type: {row['policy_type']}, policy status: {row['policy_status']}, stringency: {row['stringency']}, country update: {row['country_update']}, last update: {row['last_update']}, high impact: {row['high_impact']}, reference: {row['reference']}, with impact indicators: comments: {row['impact_indicators.comments']}, name: {row['impact_indicators.name']}, value: {row['impact_indicators.value']}, base year: {row['impact_indicators.base_year']}, target year: {row['impact_indicators.target_year']}\"\n",
    "\n",
    "# Apply the conversion to each row\n",
    "converted_texts = df.apply(convert_row_to_text, axis=1)\n"
   ]
  },
  {
   "cell_type": "code",
   "execution_count": 39,
   "metadata": {},
   "outputs": [],
   "source": [
    "with open('converted_policy_texts2.txt', 'w') as f:\n",
    "    for text in converted_texts:\n",
    "        f.write(text + '\\n')"
   ]
  }
 ],
 "metadata": {
  "kernelspec": {
   "display_name": "raptor",
   "language": "python",
   "name": "python3"
  },
  "language_info": {
   "codemirror_mode": {
    "name": "ipython",
    "version": 3
   },
   "file_extension": ".py",
   "mimetype": "text/x-python",
   "name": "python",
   "nbconvert_exporter": "python",
   "pygments_lexer": "ipython3",
   "version": "3.10.0"
  }
 },
 "nbformat": 4,
 "nbformat_minor": 2
}
